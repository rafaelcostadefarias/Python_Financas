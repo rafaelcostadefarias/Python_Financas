{
  "nbformat": 4,
  "nbformat_minor": 0,
  "metadata": {
    "colab": {
      "name": "PomodoroV0.01.ipynb",
      "provenance": [],
      "authorship_tag": "ABX9TyOF0d5yiw78gMjiLVUORs9X",
      "include_colab_link": true
    },
    "kernelspec": {
      "name": "python3",
      "display_name": "Python 3"
    }
  },
  "cells": [
    {
      "cell_type": "markdown",
      "metadata": {
        "id": "view-in-github",
        "colab_type": "text"
      },
      "source": [
        "<a href=\"https://colab.research.google.com/github/rafaelcostadefarias/Python_Financas/blob/main/PomodoroV0_01.ipynb\" target=\"_parent\"><img src=\"https://colab.research.google.com/assets/colab-badge.svg\" alt=\"Open In Colab\"/></a>"
      ]
    },
    {
      "cell_type": "code",
      "metadata": {
        "id": "s8d-v0f0vfA1"
      },
      "source": [
        "import time"
      ],
      "execution_count": 1,
      "outputs": []
    },
    {
      "cell_type": "code",
      "metadata": {
        "id": "7zOvjX0vvlMk"
      },
      "source": [
        "#quantos segundos de trabalho\n",
        "worktime = 1500\n",
        "\n",
        "#descanso\n",
        "resttime = 300"
      ],
      "execution_count": 15,
      "outputs": []
    },
    {
      "cell_type": "code",
      "metadata": {
        "id": "p4HJ_dVbvyxz"
      },
      "source": [
        "while True:\n",
        "  for i in range(worktime):\n",
        "    print(str(worktime - i),\"Work!\")\n",
        "    time.sleep(1)\n",
        "  # Play an audio beep. Any audio URL will do.\n",
        "  from google.colab import output\n",
        "  output.eval_js('new Audio(\"https://upload.wikimedia.org/wikipedia/commons/7/70/03_-_Columbia_33_FCX_140_Side_A_-_Francescati%2C_Ormandy_-_Paganini_Violinkonzert_Nr._1_D-Dur_op.6_-_Rondo%2C_Allegro_spirituoso.flac\").play()')\n",
        "  for i in range(resttime):\n",
        "    print(str(resttime - i),\"Rest!\")\n",
        "    time.sleep(1)"
      ],
      "execution_count": null,
      "outputs": []
    },
    {
      "cell_type": "code",
      "metadata": {
        "id": "NGBt9g8AwcfY"
      },
      "source": [
        ""
      ],
      "execution_count": 11,
      "outputs": []
    }
  ]
}