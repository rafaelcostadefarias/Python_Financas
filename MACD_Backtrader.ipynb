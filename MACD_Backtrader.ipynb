{
  "nbformat": 4,
  "nbformat_minor": 0,
  "metadata": {
    "colab": {
      "name": "MACD_Backtrader.ipynb",
      "provenance": [],
      "authorship_tag": "ABX9TyNQUTZ79QNemwyPiaqAuHkA",
      "include_colab_link": true
    },
    "kernelspec": {
      "name": "python3",
      "display_name": "Python 3"
    }
  },
  "cells": [
    {
      "cell_type": "markdown",
      "metadata": {
        "id": "view-in-github",
        "colab_type": "text"
      },
      "source": [
        "<a href=\"https://colab.research.google.com/github/rafaelcostadefarias/Python_Financas/blob/main/MACD_Backtrader.ipynb\" target=\"_parent\"><img src=\"https://colab.research.google.com/assets/colab-badge.svg\" alt=\"Open In Colab\"/></a>"
      ]
    },
    {
      "cell_type": "code",
      "metadata": {
        "colab": {
          "base_uri": "https://localhost:8080/"
        },
        "id": "cIMqQLA7vuXo",
        "outputId": "905422af-c6fb-49a9-ae6c-4be2d4eae861"
      },
      "source": [
        "!pip install backtrader"
      ],
      "execution_count": 8,
      "outputs": [
        {
          "output_type": "stream",
          "text": [
            "Requirement already satisfied: backtrader in /usr/local/lib/python3.6/dist-packages (1.9.76.123)\n"
          ],
          "name": "stdout"
        }
      ]
    },
    {
      "cell_type": "code",
      "metadata": {
        "id": "GjdzQHsfvfju"
      },
      "source": [
        "from datetime import datetime\n",
        "import backtrader as bt"
      ],
      "execution_count": 9,
      "outputs": []
    },
    {
      "cell_type": "code",
      "metadata": {
        "id": "RX1mnY6CvP2v"
      },
      "source": [
        "# Create a subclass of Strategy to define the indicators and logic\n",
        "\n",
        "class SmaCross(bt.Strategy):\n",
        "    # list of parameters which are configurable for the strategy\n",
        "    params = dict(\n",
        "        pfast=10,  # period for the fast moving average\n",
        "        pslow=30   # period for the slow moving average\n",
        "    )\n",
        "\n",
        "    def __init__(self):\n",
        "        sma1 = bt.ind.SMA(period=self.p.pfast)  # fast moving average\n",
        "        sma2 = bt.ind.SMA(period=self.p.pslow)  # slow moving average\n",
        "        self.crossover = bt.ind.CrossOver(sma1, sma2)  # crossover signal\n",
        "\n",
        "    def next(self):\n",
        "        if not self.position:  # not in the market\n",
        "            if self.crossover > 0:  # if fast crosses slow to the upside\n",
        "                self.buy()  # enter long\n",
        "\n",
        "        elif self.crossover < 0:  # in the market & cross to the downside\n",
        "            self.close()  # close long position"
      ],
      "execution_count": 10,
      "outputs": []
    },
    {
      "cell_type": "code",
      "metadata": {
        "id": "YNZXZP-ewGyr"
      },
      "source": [
        "cerebro = bt.Cerebro()  # create a \"Cerebro\" engine instance\n"
      ],
      "execution_count": 11,
      "outputs": []
    },
    {
      "cell_type": "code",
      "metadata": {
        "id": "JdsZCbTUwKv6"
      },
      "source": [
        "# Create a data feed\n",
        "data = bt.feeds.YahooFinanceData(dataname='MSFT',\n",
        "                                 fromdate=datetime(2011, 1, 1),\n",
        "                                 todate=datetime(2012, 12, 31))"
      ],
      "execution_count": 12,
      "outputs": []
    },
    {
      "cell_type": "code",
      "metadata": {
        "colab": {
          "base_uri": "https://localhost:8080/"
        },
        "id": "SNIh68EZwN2r",
        "outputId": "2f4e400d-3b18-414d-d0a6-3e7fbdd7d7e1"
      },
      "source": [
        "cerebro.adddata(data)  # Add the data feed\n",
        "\n",
        "cerebro.addstrategy(SmaCross)  # Add the trading strategy\n",
        "cerebro.run()  # run it all\n",
        "cerebro.plot()  # and plot it with a single command"
      ],
      "execution_count": 13,
      "outputs": [
        {
          "output_type": "execute_result",
          "data": {
            "text/plain": [
              "[[<Figure size 432x288 with 5 Axes>]]"
            ]
          },
          "metadata": {
            "tags": []
          },
          "execution_count": 13
        }
      ]
    }
  ]
}